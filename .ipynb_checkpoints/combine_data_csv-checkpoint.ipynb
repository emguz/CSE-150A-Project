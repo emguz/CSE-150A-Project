{
 "cells": [
  {
   "cell_type": "code",
   "execution_count": 36,
   "id": "677efa91-5336-47e1-8d2b-e4b1ded37307",
   "metadata": {},
   "outputs": [],
   "source": [
    "# !pip install glob"
   ]
  },
  {
   "cell_type": "code",
   "execution_count": 32,
   "id": "c7016124-c7bf-4f54-95dc-103dbc90880b",
   "metadata": {},
   "outputs": [],
   "source": [
    "import pandas as pd\n",
    "import numpy as np\n",
    "import glob"
   ]
  },
  {
   "cell_type": "code",
   "execution_count": 33,
   "id": "d313b3d7-71db-40f6-9629-abdff668e095",
   "metadata": {},
   "outputs": [],
   "source": [
    "all_data_csv = glob.glob(\"data/*.csv\")"
   ]
  },
  {
   "cell_type": "code",
   "execution_count": 35,
   "id": "9aa5dabc-c37b-4ca1-8f7f-df4dd6aeec74",
   "metadata": {},
   "outputs": [],
   "source": [
    "dfs_combine = []\n",
    "\n",
    "# for each file, add to dfs_combine\n",
    "for file in all_data_csv:\n",
    "    df = pd.read_csv(file)\n",
    "    dfs_combine.append(df)\n",
    "# \n",
    "# join dfs together\n",
    "df_all_data = pd.concat(dfs_combine, ignore_index=True)\n",
    "\n",
    "# save combined dfs into new file\n",
    "df_all_data.to_csv('all_years.csv', index=False)"
   ]
  }
 ],
 "metadata": {
  "kernelspec": {
   "display_name": "Python 3",
   "language": "python",
   "name": "python3"
  },
  "language_info": {
   "codemirror_mode": {
    "name": "ipython",
    "version": 3
   },
   "file_extension": ".py",
   "mimetype": "text/x-python",
   "name": "python",
   "nbconvert_exporter": "python",
   "pygments_lexer": "ipython3",
   "version": "3.8.8"
  }
 },
 "nbformat": 4,
 "nbformat_minor": 5
}
