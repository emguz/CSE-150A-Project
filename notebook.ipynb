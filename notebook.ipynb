{
 "cells": [
  {
   "cell_type": "code",
   "execution_count": 1,
   "id": "d783646d",
   "metadata": {},
   "outputs": [
    {
     "name": "stdout",
     "output_type": "stream",
     "text": [
      "./data/NBA_2007_Shots.csv\n",
      "./data/NBA_2012_Shots.csv\n",
      "./data/NBA_2019_Shots.csv\n",
      "./data/NBA_2020_Shots.csv\n",
      "./data/NBA_2014_Shots.csv\n",
      "./data/NBA_2021_Shots.csv\n",
      "./data/NBA_2024_Shots.csv\n",
      "./data/NBA_2008_Shots.csv\n",
      "./data/NBA_2004_Shots.csv\n",
      "./data/NBA_2006_Shots.csv\n",
      "./data/NBA_2010_Shots.csv\n",
      "./data/NBA_2017_Shots.csv\n",
      "./data/NBA_2013_Shots.csv\n",
      "./data/NBA_2018_Shots.csv\n",
      "./data/NBA_2011_Shots.csv\n",
      "./data/NBA_2023_Shots.csv\n",
      "./data/NBA_2022_Shots.csv\n",
      "./data/NBA_2016_Shots.csv\n",
      "./data/NBA_2015_Shots.csv\n",
      "./data/NBA_2009_Shots.csv\n",
      "./data/NBA_2005_Shots.csv\n"
     ]
    }
   ],
   "source": [
    "import numpy as np \n",
    "import pandas as pd \n",
    "\n",
    "import os\n",
    "for dirname, _, filenames in os.walk('./data'):\n",
    "    for filename in filenames:\n",
    "        print(os.path.join(dirname, filename))"
   ]
  },
  {
   "cell_type": "code",
   "execution_count": null,
   "id": "dd609ce5",
   "metadata": {},
   "outputs": [],
   "source": []
  }
 ],
 "metadata": {
  "kernelspec": {
   "display_name": "Python 3 (ipykernel)",
   "language": "python",
   "name": "python3"
  },
  "language_info": {
   "codemirror_mode": {
    "name": "ipython",
    "version": 3
   },
   "file_extension": ".py",
   "mimetype": "text/x-python",
   "name": "python",
   "nbconvert_exporter": "python",
   "pygments_lexer": "ipython3",
   "version": "3.10.12"
  }
 },
 "nbformat": 4,
 "nbformat_minor": 5
}
